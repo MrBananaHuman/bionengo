{
 "cells": [
  {
   "cell_type": "markdown",
   "metadata": {},
   "source": [
    "### Bioneuron Oracle Notebook\n",
    "#### April 2017\n",
    "#### https://github.com/psipeter/bionengo/tree/oracle"
   ]
  },
  {
   "cell_type": "markdown",
   "metadata": {},
   "source": [
    "Description of what the notebook does"
   ]
  },
  {
   "cell_type": "markdown",
   "metadata": {},
   "source": [
    "### Install NEURON and other dependencies\n",
    "change --prefix to your .local directory"
   ]
  },
  {
   "cell_type": "markdown",
   "metadata": {},
   "source": [
    "```bash\n",
    "pip install nengo matplotlib seaborn numpy\n",
    "\n",
    "wget http://www.neuron.yale.edu/ftp/neuron/versions/v7.4/nrn-7.4.tar.gz\n",
    "tar xzf nrn-7.4.tar.gz\n",
    "cd nrn-7.4\n",
    "./configure --prefix=/home/pduggins/.local --without-iv --with-nrnpython\n",
    "make\n",
    "(sudo) make install\n",
    "cd src/nrnpython\n",
    "python setup.py install\n",
    "cd ../../..\n",
    "```"
   ]
  },
  {
   "cell_type": "markdown",
   "metadata": {},
   "source": [
    "### Install channel mechanisms for the bahl.hoc NEURON model\n",
    "Change the path to your .local directory to compile the NEURONchannel mechanisms"
   ]
  },
  {
   "cell_type": "markdown",
   "metadata": {},
   "source": [
    "```bash\n",
    "git clone -b oracle https://github.com/psipeter/bionengo.git\n",
    "cd bionengo/NEURON_models/\n",
    "/home/psipeter/.local/x86_64/bin/nrnivmodl\n",
    "```"
   ]
  },
  {
   "cell_type": "markdown",
   "metadata": {},
   "source": [
    "In bahl.hoc, change nrn_load_dll path to NEURON_models/channels"
   ]
  },
  {
   "cell_type": "code",
   "execution_count": 3,
   "metadata": {
    "collapsed": true
   },
   "outputs": [],
   "source": [
    "import nengo\n",
    "import matplotlib.pyplot as plt\n",
    "import seaborn as sns\n",
    "import numpy as np\n",
    "import neuron"
   ]
  },
  {
   "cell_type": "markdown",
   "metadata": {
    "collapsed": true
   },
   "source": [
    "### Define bioneuron class"
   ]
  },
  {
   "cell_type": "code",
   "execution_count": 22,
   "metadata": {},
   "outputs": [],
   "source": [
    "neuron.h.load_file('/home/pduggins/bionengo/NEURON_models/bahl.hoc')\n",
    "\n",
    "class BahlNeuron(nengo.neurons.NeuronType):\n",
    "    '''compartmental neuron from Bahl et al 2012'''\n",
    "\n",
    "    probeable=('spikes','voltage')\n",
    "    def __init__(self,n_neurons,dimensions,encoders,input_decoders,syn_locations,label):\n",
    "        super(BahlNeuron,self).__init__()\n",
    "        self.n_neurons=n_neurons\n",
    "        self.dimensions=dimensions\n",
    "        self.encoders=encoders\n",
    "        self.input_decoders=input_decoders\n",
    "        self.syn_locations=syn_locations\n",
    "        self.label=label\n",
    "        self.targets=None\n",
    "        self.activities=None\n",
    "        self.atrb={}\n",
    "        self.inputs={}\n",
    "\n",
    "    def create(self,bio_idx):\n",
    "        return self.Bahl(bio_idx,self.encoders[bio_idx],self.input_decoders[bio_idx],syn_locations[bio_idx])\n",
    "\n",
    "    class Bahl():\n",
    "        def __init__(self,bio_idx,encoder,input_decoder,syn_locations):\n",
    "            self.bio_idx=bio_idx\n",
    "            self.encoder=encoder\n",
    "            self.input_decoder=input_decoder\n",
    "            self.syn_locactions=syn_locations\n",
    "            self.bias = None\n",
    "            self.synapses = {}\n",
    "            self.netcons = {}\n",
    "        def add_cell(self): \n",
    "            self.cell = neuron.h.Bahl()\n",
    "        def add_bias(self):\n",
    "            self.bias_current = neuron.h.IClamp(self.cell.soma(0.5))\n",
    "            self.bias_current.delay = 0\n",
    "            self.bias_current.dur = 1e9\n",
    "            self.bias_current.amp = self.bias\n",
    "        def start_recording(self):\n",
    "            self.v_record = neuron.h.Vector()\n",
    "            self.v_record.record(self.cell.soma(0.5)._ref_v)\n",
    "            self.ap_counter = neuron.h.APCount(self.cell.soma(0.5))\n",
    "            self.t_record = neuron.h.Vector()\n",
    "            self.t_record.record(neuron.h._ref_t)\n",
    "            self.spikes = neuron.h.Vector()\n",
    "            self.ap_counter.record(neuron.h.ref(self.spikes))\n",
    "            self.spikes_last=[]\n",
    "\n",
    "    class ExpSyn():\n",
    "        def __init__(self, sec, weight, tau, e_exc=0.0, e_inh=-80.0):\n",
    "            self.type = 'ExpSyn'\n",
    "            self.tau = tau\n",
    "            self.e_exc = e_exc\n",
    "            self.e_inh = e_inh\n",
    "            self.syn = neuron.h.ExpSyn(sec)\n",
    "            self.syn.tau=2*1000*self.tau #arbitrary 2x multiply to offset phase shift in bio decode\n",
    "            self.weight = weight\n",
    "            if self.weight >= 0.0: self.syn.e = self.e_exc\n",
    "            else: self.syn.e = self.e_inh\n",
    "            self.spike_in = neuron.h.NetCon(None, self.syn) #time of spike arrival assigned in nengo step\n",
    "            self.spike_in.weight[0]=abs(self.weight)\n",
    "            \n",
    "    def rates(self, x, gain, bias): #todo: remove this without errors\n",
    "        return x\n",
    "\n",
    "    def gain_bias(self, max_rates, intercepts): #todo: remove this without errors\n",
    "        return np.ones(len(max_rates)),np.ones(len(max_rates))\n",
    "\n",
    "    def step_math(self,dt,spiked,neurons,voltage,time):\n",
    "        t_neuron=time*1000\n",
    "        neuron.run(t_neuron) \n",
    "        new_spiked=[]\n",
    "        new_voltage=[]\n",
    "        for nrn in neurons:\n",
    "            spike_times=np.array(nrn.spikes)\n",
    "            spike_times_last=np.array(nrn.spikes_last)\n",
    "            count=len(spike_times)-len(spike_times_last)\n",
    "            new_spiked.append(count)\n",
    "            volt=np.array(nrn.v_record)[-1] #fails if neuron.init() not called at right times\n",
    "            new_voltage.append(volt)\n",
    "            nrn.spikes_last=spike_times\n",
    "        spiked[:]=np.array(new_spiked)/dt\n",
    "        voltage[:]=np.array(new_voltage)"
   ]
  },
  {
   "cell_type": "markdown",
   "metadata": {},
   "source": [
    "### Nengo Operators and Builders"
   ]
  },
  {
   "cell_type": "code",
   "execution_count": 9,
   "metadata": {
    "collapsed": true
   },
   "outputs": [],
   "source": [
    "from nengo.builder import Builder, Operator, Signal"
   ]
  },
  {
   "cell_type": "code",
   "execution_count": 10,
   "metadata": {},
   "outputs": [],
   "source": [
    "class SimBahlNeuron(Operator):\n",
    "    def __init__(self,neurons,n_neurons,output,voltage,states):\n",
    "        super(SimBahlNeuron,self).__init__()\n",
    "        self.neurons=neurons\n",
    "        self.neurons.father_op=self\n",
    "        self.output=output\n",
    "        self.voltage=voltage\n",
    "        self.time=states[0]\n",
    "        self.reads = [states[0]]\n",
    "        self.sets=[output,voltage]\n",
    "        self.updates=[]\n",
    "        self.incs=[]\n",
    "        self.label=self.neurons.label\n",
    "        self.neurons.neurons=[self.neurons.create(i) for i in range(n_neurons)]\n",
    "        self.ens_atributes=self.neurons.atrb\n",
    "        self.inputs=self.neurons.inputs\n",
    "        self.targets=self.neurons.targets\n",
    "        self.activities=self.neurons.activities\n",
    "\n",
    "    def make_step(self,signals,dt,rng):\n",
    "        output=signals[self.output]\n",
    "        voltage=signals[self.voltage]\n",
    "        time=signals[self.time]\n",
    "        def step_nrn():\n",
    "            self.neurons.step_math(dt,output,self.neurons.neurons,voltage,time)\n",
    "        return step_nrn\n",
    "\n",
    "    def init_cells(self):\n",
    "        for bioneuron in self.neurons.neurons:\n",
    "            if not hasattr(bioneuron,'cell'):\n",
    "                bioneuron.add_cell()\n",
    "\n",
    "    def init_connections(self):\n",
    "        for inpt in self.inputs.iterkeys():\n",
    "#             decoders=np.load(filename+'decoders_%s_to_%s.npz'%(inpt,self.label))['decoders']\n",
    "#             locations=np.load(filename+'synapse_locations_%s_to_%s.npz'%(inpt,self.label))['locations']\n",
    "#             if self.P['single_encoder']==False: encoders=np.load(filename+'encoders_%s_to_%s.npz'%(inpt,self.label))['encoders']\n",
    "            for bionrn in range(len(self.neurons.neurons)):\n",
    "                bioneuron=self.neurons.neurons[bionrn]\n",
    "                pre_neurons=self.inputs[inpt]['pre_neurons']\n",
    "                pre_synapses=self.ens_atributes['n_syn']\n",
    "                bioneuron.synapses[inpt]=np.empty((pre_neurons,pre_synapses),dtype=object)\n",
    "                for pre in range(pre_neurons):\n",
    "                    for syn in range(pre_synapses):\n",
    "                        decoder=decoders[bionrn]\n",
    "                        if self.P['single_encoder']==True: encoder=encoders[bionrn]\n",
    "                        else: encoder=encoders[bionrn][pre][syn]\n",
    "                        section=bioneuron.cell.apical(locations[bionrn][pre][syn])\n",
    "                        weight=np.dot(decoder,encoder)\n",
    "                        synapse=ExpSyn(section,weight,self.ens_atributes['tau'])\n",
    "                        bioneuron.synapses[inpt][pre][syn]=synapse\n",
    "        for bioneuron in self.neurons.neurons:\n",
    "            bioneuron.start_recording()"
   ]
  },
  {
   "cell_type": "code",
   "execution_count": 13,
   "metadata": {},
   "outputs": [],
   "source": [
    "class TransmitSpikes(Operator):\n",
    "    def __init__(self,ens_pre_label,spikes,bahl_op,states):\n",
    "        self.ens_pre_label=ens_pre_label\n",
    "        self.spikes=spikes\n",
    "        self.bahl_op=bahl_op\n",
    "        self.neurons=bahl_op.neurons.neurons\n",
    "        self.time=states[0]\n",
    "        self.reads=[spikes,states[0]]\n",
    "        self.updates=[]\n",
    "        self.sets=[]\n",
    "        self.incs=[]\n",
    "    def make_step(self,signals,dt,rng):\n",
    "        spikes=signals[self.spikes]\n",
    "        time=signals[self.time]\n",
    "        def step():\n",
    "            'event-based method'\n",
    "            tback=time-dt\n",
    "            t_neuron=tback*1000\n",
    "            for n in range(spikes.shape[0]): #for each input neuron\n",
    "                my_spikes=spikes[n] #actual spikes\n",
    "                if my_spikes > 0: #if input neuron spiked\n",
    "                    for nrn in self.neurons: #for each bioneuron\n",
    "                        for syn in nrn.synapses[self.ens_pre_label][n]: #for each synapse conn. to input\n",
    "                            syn.spike_in.event(t_neuron) #add a spike at time (ms)\n",
    "        return step"
   ]
  },
  {
   "cell_type": "code",
   "execution_count": 17,
   "metadata": {},
   "outputs": [],
   "source": [
    "@Builder.register(BahlNeuron)\n",
    "def build_bahlneuron(model,neuron_type,ens):\n",
    "    model.sig[ens]['voltage'] = Signal(np.zeros(ens.ensemble.n_neurons),\n",
    "                        name='%s.voltage' %ens.ensemble.label)\n",
    "    op=SimBahlNeuron(neurons=neuron_type,\n",
    "                     n_neurons=ens.ensemble.n_neurons,\n",
    "                     output=model.sig[ens]['out'],\n",
    "                     voltage=model.sig[ens]['voltage'],\n",
    "                     states=[model.time])\n",
    "    model.add_op(op)\n",
    "\n",
    "@Builder.register(nengo.Ensemble)\n",
    "def build_ensemble(model,ens):\n",
    "    nengo.builder.ensemble.build_ensemble(model,ens)\n",
    "\n",
    "@Builder.register(nengo.Connection)\n",
    "def build_connection(model,conn):\n",
    "    from nengo.builder.connection import BuiltConnection\n",
    "    use_nrn = (\n",
    "        isinstance(conn.post, nengo.Ensemble) and\n",
    "        isinstance(conn.post.neuron_type, BahlNeuron))\n",
    "    if use_nrn: #bioneuron connection\n",
    "        rng = np.random.RandomState(model.seeds[conn])\n",
    "        model.sig[conn]['in']=model.sig[conn.pre]['out']\n",
    "        from nengo.dists import get_samples\n",
    "        from nengo.builder.connection import build_decoders\n",
    "        transform = get_samples(conn.transform, conn.size_out, d=conn.size_mid, rng=rng)\n",
    "        eval_points, weights, solver_info = build_decoders(model, conn, rng, transform)\n",
    "        op=conn.post.neuron_type.father_op\n",
    "        \n",
    "        \n",
    "        model.params[conn] = BuiltConnection(eval_points=eval_points,\n",
    "                                             solver_info=solver_info,\n",
    "                                             transform=transform,\n",
    "                                             weights=weights)\n",
    "\n",
    "    else: #normal connection\n",
    "        return nengo.builder.connection.build_connection(model, conn)"
   ]
  },
  {
   "cell_type": "markdown",
   "metadata": {},
   "source": [
    "### Define the test network"
   ]
  },
  {
   "cell_type": "code",
   "execution_count": 20,
   "metadata": {
    "collapsed": true
   },
   "outputs": [],
   "source": [
    "n_neurons=50\n",
    "ens_seed=33\n",
    "tau=0.01\n",
    "dim=1"
   ]
  },
  {
   "cell_type": "code",
   "execution_count": 21,
   "metadata": {},
   "outputs": [
    {
     "ename": "NameError",
     "evalue": "name 'P' is not defined",
     "output_type": "error",
     "traceback": [
      "\u001b[0;31m---------------------------------------------------------------------------\u001b[0m",
      "\u001b[0;31mNameError\u001b[0m                                 Traceback (most recent call last)",
      "\u001b[0;32m<ipython-input-21-92f47f5d94e5>\u001b[0m in \u001b[0;36m<module>\u001b[0;34m()\u001b[0m\n\u001b[1;32m      2\u001b[0m     \u001b[0mstim\u001b[0m \u001b[0;34m=\u001b[0m \u001b[0mnengo\u001b[0m\u001b[0;34m.\u001b[0m\u001b[0mNode\u001b[0m\u001b[0;34m(\u001b[0m\u001b[0;32mlambda\u001b[0m \u001b[0mt\u001b[0m\u001b[0;34m:\u001b[0m \u001b[0mnp\u001b[0m\u001b[0;34m.\u001b[0m\u001b[0msin\u001b[0m\u001b[0;34m(\u001b[0m\u001b[0mt\u001b[0m\u001b[0;34m)\u001b[0m\u001b[0;34m)\u001b[0m\u001b[0;34m\u001b[0m\u001b[0m\n\u001b[1;32m      3\u001b[0m     \u001b[0mpre\u001b[0m\u001b[0;34m=\u001b[0m\u001b[0mnengo\u001b[0m\u001b[0;34m.\u001b[0m\u001b[0mEnsemble\u001b[0m\u001b[0;34m(\u001b[0m\u001b[0mn_neurons\u001b[0m\u001b[0;34m=\u001b[0m\u001b[0;36m100\u001b[0m\u001b[0;34m,\u001b[0m\u001b[0mdimensions\u001b[0m\u001b[0;34m=\u001b[0m\u001b[0;36m1\u001b[0m\u001b[0;34m,\u001b[0m\u001b[0mseed\u001b[0m\u001b[0;34m=\u001b[0m\u001b[0;36m3\u001b[0m\u001b[0;34m,\u001b[0m\u001b[0mlabel\u001b[0m\u001b[0;34m=\u001b[0m\u001b[0;34m'pre'\u001b[0m\u001b[0;34m)\u001b[0m\u001b[0;34m\u001b[0m\u001b[0m\n\u001b[0;32m----> 4\u001b[0;31m     \u001b[0mbio\u001b[0m\u001b[0;34m=\u001b[0m\u001b[0mnengo\u001b[0m\u001b[0;34m.\u001b[0m\u001b[0mEnsemble\u001b[0m\u001b[0;34m(\u001b[0m\u001b[0mn_neurons\u001b[0m\u001b[0;34m=\u001b[0m\u001b[0mn_neurons\u001b[0m\u001b[0;34m,\u001b[0m\u001b[0mdimensions\u001b[0m\u001b[0;34m=\u001b[0m\u001b[0;36m1\u001b[0m\u001b[0;34m,\u001b[0m\u001b[0mneuron_type\u001b[0m\u001b[0;34m=\u001b[0m\u001b[0mBahlNeuron\u001b[0m\u001b[0;34m(\u001b[0m\u001b[0mP\u001b[0m\u001b[0;34m,\u001b[0m\u001b[0;34m'bio'\u001b[0m\u001b[0;34m)\u001b[0m\u001b[0;34m,\u001b[0m\u001b[0mlabel\u001b[0m\u001b[0;34m=\u001b[0m\u001b[0;34m'bio'\u001b[0m\u001b[0;34m,\u001b[0m\u001b[0mseed\u001b[0m\u001b[0;34m=\u001b[0m\u001b[0mens_seed\u001b[0m\u001b[0;34m)\u001b[0m\u001b[0;34m\u001b[0m\u001b[0m\n\u001b[0m\u001b[1;32m      5\u001b[0m     \u001b[0mlif\u001b[0m\u001b[0;34m=\u001b[0m\u001b[0mnengo\u001b[0m\u001b[0;34m.\u001b[0m\u001b[0mEnsemble\u001b[0m\u001b[0;34m(\u001b[0m\u001b[0mn_neurons\u001b[0m\u001b[0;34m=\u001b[0m\u001b[0mn_neurons\u001b[0m\u001b[0;34m,\u001b[0m\u001b[0mdimensions\u001b[0m\u001b[0;34m=\u001b[0m\u001b[0;36m1\u001b[0m\u001b[0;34m,\u001b[0m\u001b[0mneuron_type\u001b[0m\u001b[0;34m=\u001b[0m\u001b[0mnengo\u001b[0m\u001b[0;34m.\u001b[0m\u001b[0mLIF\u001b[0m\u001b[0;34m(\u001b[0m\u001b[0;34m)\u001b[0m\u001b[0;34m,\u001b[0m\u001b[0mlabel\u001b[0m\u001b[0;34m=\u001b[0m\u001b[0;34m'lif'\u001b[0m\u001b[0;34m,\u001b[0m\u001b[0mseed\u001b[0m\u001b[0;34m=\u001b[0m\u001b[0mens_seed\u001b[0m\u001b[0;34m)\u001b[0m\u001b[0;34m\u001b[0m\u001b[0m\n\u001b[1;32m      6\u001b[0m     \u001b[0mdirect\u001b[0m\u001b[0;34m=\u001b[0m\u001b[0mnengo\u001b[0m\u001b[0;34m.\u001b[0m\u001b[0mEnsemble\u001b[0m\u001b[0;34m(\u001b[0m\u001b[0mn_neurons\u001b[0m\u001b[0;34m=\u001b[0m\u001b[0;36m1\u001b[0m\u001b[0;34m,\u001b[0m\u001b[0mdimensions\u001b[0m\u001b[0;34m=\u001b[0m\u001b[0;36m1\u001b[0m\u001b[0;34m,\u001b[0m\u001b[0mneuron_type\u001b[0m\u001b[0;34m=\u001b[0m\u001b[0mnengo\u001b[0m\u001b[0;34m.\u001b[0m\u001b[0mDirect\u001b[0m\u001b[0;34m(\u001b[0m\u001b[0;34m)\u001b[0m\u001b[0;34m,\u001b[0m\u001b[0mlabel\u001b[0m\u001b[0;34m=\u001b[0m\u001b[0;34m'direct'\u001b[0m\u001b[0;34m)\u001b[0m\u001b[0;34m\u001b[0m\u001b[0m\n",
      "\u001b[0;31mNameError\u001b[0m: name 'P' is not defined"
     ]
    }
   ],
   "source": [
    "with nengo.Network() as model:\n",
    "    stim = nengo.Node(lambda t: np.sin(t))\n",
    "    pre=nengo.Ensemble(n_neurons=100,dimensions=dim,seed=3,label='pre')\n",
    "    bio=nengo.Ensemble(n_neurons=n_neurons,dimensions=dim,label='bio',seed=ens_seed,\n",
    "                       neuron_type=BahlNeuron(n_neurons,dim,encoders,input_decoders,'bio'))\n",
    "    lif=nengo.Ensemble(n_neurons=n_neurons,dimensions=dim,neuron_type=nengo.LIF(),label='lif',seed=ens_seed)\n",
    "    direct=nengo.Ensemble(n_neurons=1,dimensions=dim,neuron_type=nengo.Direct(),label='direct')\n",
    "    \n",
    "    nengo.Connection(stim,pre,synapse=None)\n",
    "    nengo.Connection(pre,bio,synapse=tau)\n",
    "    nengo.Connection(pre,lif,synapse=tau)\n",
    "    nengo.Connection(stim,direct,synapse=tau)\n",
    "    \n",
    "    probe_stim=nengo.Probe(stim,synapse=None)\n",
    "    probe_pre=nengo.Probe(pre,synapse=tau)\n",
    "    probe_lif=nengo.Probe(lif,synapse=tau)\n",
    "    probe_direct=nengo.Probe(direct,synapse=tau)\n",
    "    probe_pre_spikes=nengo.Probe(pre.neurons,'spikes')\n",
    "    probe_bio_spikes=nengo.Probe(bio.neurons,'spikes')\n",
    "    probe_lif_spikes=nengo.Probe(lif.neurons,'spikes')"
   ]
  },
  {
   "cell_type": "code",
   "execution_count": null,
   "metadata": {
    "collapsed": true
   },
   "outputs": [],
   "source": []
  }
 ],
 "metadata": {
  "kernelspec": {
   "display_name": "Python 2",
   "language": "python",
   "name": "python2"
  },
  "language_info": {
   "codemirror_mode": {
    "name": "ipython",
    "version": 2
   },
   "file_extension": ".py",
   "mimetype": "text/x-python",
   "name": "python",
   "nbconvert_exporter": "python",
   "pygments_lexer": "ipython2",
   "version": "2.7.9"
  }
 },
 "nbformat": 4,
 "nbformat_minor": 2
}
